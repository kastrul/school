{
 "cells": [
  {
   "cell_type": "code",
   "execution_count": 11,
   "metadata": {},
   "outputs": [],
   "source": [
    "from __future__ import print_function\n",
    "\n",
    "import logging\n",
    "import pprint\n",
    "from os import listdir\n",
    "from os.path import isfile, join\n",
    "\n",
    "import ipywidgets as widgets\n",
    "from IPython.display import display\n",
    "from gensim.corpora import MmCorpus, Dictionary\n",
    "from gensim.models import HdpModel, TfidfModel\n",
    "\n",
    "logging.basicConfig(format='\\r%(asctime)s : %(levelname)s : %(message)s', level=logging.INFO)\n",
    "\n",
    "pp = pprint.PrettyPrinter(indent=4)\n"
   ]
  },
  {
   "cell_type": "code",
   "execution_count": 12,
   "metadata": {},
   "outputs": [],
   "source": [
    "def get_files(path):\n",
    "    return [f for f in listdir(path) if isfile(join(path, f))]"
   ]
  },
  {
   "cell_type": "markdown",
   "metadata": {},
   "source": [
    "## Model training\n",
    "### Widget creation"
   ]
  },
  {
   "cell_type": "code",
   "execution_count": 13,
   "metadata": {},
   "outputs": [],
   "source": [
    "dict_file = widgets.Dropdown(options=get_files('../data/stacksample/dictionary'), description='Dictionary file:')\n",
    "bow_file = widgets.Dropdown(options=[file for file in get_files('../data/stacksample/bow') if 'index' not in file], \n",
    "                            description='BoW file:')\n",
    "train_model_btn = widgets.Button(description='Train model!')\n",
    "model_name = widgets.Text(value='model_name.type', placeholder='Type model name', description='Model name:')\n",
    "save_model = widgets.Checkbox(value=False, description='Save model?', disabled=False)"
   ]
  },
  {
   "cell_type": "markdown",
   "metadata": {},
   "source": [
    "### Training methods"
   ]
  },
  {
   "cell_type": "code",
   "execution_count": 14,
   "metadata": {},
   "outputs": [],
   "source": [
    "def train_model(dict_f, bow_f, model_name='model_name', save_model=False):\n",
    "    corpus_dict = Dictionary.load(f'../data/stacksample/dictionary/{dict_f}')\n",
    "    corpus_bow = MmCorpus(f'../data/stacksample/bow/{bow_f}')\n",
    "    \n",
    "    model = HdpModel(corpus_bow, id2word=corpus_dict)\n",
    "    \n",
    "    if save_model:\n",
    "        model.save(f'../data/stacksample/models/{model_name}')    \n",
    "    \n",
    "    \n",
    "def train_btn_click(b):\n",
    "    train_model(dict_file.value, bow_file.value, model_name.value, save_model.value)"
   ]
  },
  {
   "cell_type": "markdown",
   "metadata": {},
   "source": [
    "### Run training"
   ]
  },
  {
   "cell_type": "code",
   "execution_count": 15,
   "metadata": {},
   "outputs": [
    {
     "data": {
      "application/vnd.jupyter.widget-view+json": {
       "model_id": "d9eea464cac74ed58110eccec4b73dbd"
      }
     },
     "metadata": {},
     "output_type": "display_data"
    },
    {
     "data": {
      "application/vnd.jupyter.widget-view+json": {
       "model_id": "4f003a79dfcb4a63a935f00573c0ca98"
      }
     },
     "metadata": {},
     "output_type": "display_data"
    },
    {
     "data": {
      "application/vnd.jupyter.widget-view+json": {
       "model_id": "815734cde757430898cba2e10f68cfcd"
      }
     },
     "metadata": {},
     "output_type": "display_data"
    },
    {
     "data": {
      "application/vnd.jupyter.widget-view+json": {
       "model_id": "41c04334701f4aa2939f2771cb9a8399"
      }
     },
     "metadata": {},
     "output_type": "display_data"
    },
    {
     "data": {
      "application/vnd.jupyter.widget-view+json": {
       "model_id": "60db8aa1245a46f6bf270f91c75c7a44"
      }
     },
     "metadata": {},
     "output_type": "display_data"
    },
    {
     "name": "stderr",
     "output_type": "stream",
     "text": [
      "2018-06-03 23:48:09,832 : WARNING : likelihood is decreasing! documents, 2009852 features, 65879940 non-zero entriesmmt"
     ]
    }
   ],
   "source": [
    "logging.StreamHandler.terminator = ''\n",
    "display(dict_file, bow_file, model_name, save_model, train_model_btn)\n",
    "train_model_btn.on_click(train_btn_click)"
   ]
  },
  {
   "cell_type": "code",
   "execution_count": null,
   "metadata": {},
   "outputs": [],
   "source": []
  }
 ],
 "metadata": {
  "kernelspec": {
   "display_name": "Python 3",
   "language": "python",
   "name": "python3"
  },
  "language_info": {
   "codemirror_mode": {
    "name": "ipython",
    "version": 3
   },
   "file_extension": ".py",
   "mimetype": "text/x-python",
   "name": "python",
   "nbconvert_exporter": "python",
   "pygments_lexer": "ipython3",
   "version": "3.6.2"
  }
 },
 "nbformat": 4,
 "nbformat_minor": 1
}
