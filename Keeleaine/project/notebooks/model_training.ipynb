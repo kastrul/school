{
 "cells": [
  {
   "cell_type": "code",
   "execution_count": 12,
   "metadata": {},
   "outputs": [],
   "source": [
    "from __future__ import print_function\n",
    "\n",
    "import logging\n",
    "import pprint\n",
    "from os import listdir\n",
    "from os.path import isfile, join\n",
    "\n",
    "import ipywidgets as widgets\n",
    "from IPython.display import display\n",
    "from gensim.corpora import MmCorpus, Dictionary\n",
    "from gensim.models import HdpModel, TfidfModel, LdaMulticore, LsiModel\n",
    "\n",
    "logging.basicConfig(format='\\r%(asctime)s : %(levelname)s : %(message)s', level=logging.INFO)\n",
    "\n",
    "pp = pprint.PrettyPrinter(indent=4)\n"
   ]
  },
  {
   "cell_type": "code",
   "execution_count": 13,
   "metadata": {},
   "outputs": [],
   "source": [
    "def get_files(path):\n",
    "    return [f for f in listdir(path) if isfile(join(path, f))]"
   ]
  },
  {
   "cell_type": "markdown",
   "metadata": {},
   "source": [
    "## Model training\n",
    "### Widget creation"
   ]
  },
  {
   "cell_type": "code",
   "execution_count": 14,
   "metadata": {},
   "outputs": [],
   "source": [
    "dict_file = widgets.Dropdown(options=get_files('../data/stacksample/dictionary'), description='Dictionary file:')\n",
    "bow_file = widgets.Dropdown(options=[file for file in get_files('../data/stacksample/bow') if 'index' not in file], \n",
    "                            description='BoW file:')\n",
    "train_model_btn = widgets.Button(description='Train model!')\n",
    "model_name = widgets.Text(value='model_name.type', placeholder='Type model name', description='Model name:')\n",
    "save_model = widgets.Checkbox(value=False, description='Save model?', disabled=False)"
   ]
  },
  {
   "cell_type": "markdown",
   "metadata": {},
   "source": [
    "### Training methods"
   ]
  },
  {
   "cell_type": "code",
   "execution_count": 18,
   "metadata": {},
   "outputs": [],
   "source": [
    "def train_model(dict_f, bow_f, model_name='model_name', save_model=False):\n",
    "    corpus_dict = Dictionary.load(f'../data/stacksample/dictionary/{dict_f}')\n",
    "    corpus_bow = MmCorpus(f'../data/stacksample/bow/{bow_f}')\n",
    "    \n",
    "    model = HdpModel(corpus_bow, id2word=corpus_dict)\n",
    "    \n",
    "    if save_model:\n",
    "        model.save(f'../data/stacksample/models/{model_name}')    \n",
    "    \n",
    "    \n",
    "def train_btn_click(b):\n",
    "    train_model(dict_file.value, bow_file.value, model_name.value, save_model.value)"
   ]
  },
  {
   "cell_type": "markdown",
   "metadata": {},
   "source": [
    "### Run training"
   ]
  },
  {
   "cell_type": "code",
   "execution_count": 19,
   "metadata": {},
   "outputs": [
    {
     "data": {
      "application/vnd.jupyter.widget-view+json": {
       "model_id": "11ad9f8bc0df4b118cb71b3a0b3e996b"
      }
     },
     "metadata": {},
     "output_type": "display_data"
    },
    {
     "data": {
      "application/vnd.jupyter.widget-view+json": {
       "model_id": "abd715c96ad846db924282d155b59f18"
      }
     },
     "metadata": {},
     "output_type": "display_data"
    },
    {
     "data": {
      "application/vnd.jupyter.widget-view+json": {
       "model_id": "fb6a9ff1cd894b81a2d4e0f87aea3ad9"
      }
     },
     "metadata": {},
     "output_type": "display_data"
    },
    {
     "data": {
      "application/vnd.jupyter.widget-view+json": {
       "model_id": "87bd62a9697847998e8b744fea48dfdf"
      }
     },
     "metadata": {},
     "output_type": "display_data"
    },
    {
     "data": {
      "application/vnd.jupyter.widget-view+json": {
       "model_id": "fa6aa23b8d0e40bab5dafaf8e39e9f21"
      }
     },
     "metadata": {},
     "output_type": "display_data"
    },
    {
     "name": "stderr",
     "output_type": "stream",
     "text": [
      "2018-06-05 09:16:53,492 : WARNING : likelihood is decreasing! documents, 37034 features, 21521730 non-zero entries"
     ]
    }
   ],
   "source": [
    "logging.StreamHandler.terminator = ''\n",
    "display(dict_file, bow_file, model_name, save_model, train_model_btn)\n",
    "train_model_btn.on_click(train_btn_click)"
   ]
  },
  {
   "cell_type": "markdown",
   "metadata": {},
   "source": [
    "---"
   ]
  },
  {
   "cell_type": "code",
   "execution_count": 11,
   "metadata": {},
   "outputs": [
    {
     "name": "stderr",
     "output_type": "stream",
     "text": [
      "2018-06-05 03:47:16,087 : INFO : saved ../data/stacksample/models/tfidf_title_body_compact.lsi_title_body_compact.lsi, separately Noneparately Nonetring\" + -0.166*\"post\" + -0.159*\"page\" + 0.157*\"java\"42*\"string\"rap\"ent\""
     ]
    }
   ],
   "source": [
    "def train_model_custom(dict_f, bow_f, model_f, model_name='model_name', save_model=False):\n",
    "    corpus_dict = Dictionary.load(f'../data/stacksample/dictionary/{dict_f}')\n",
    "    corpus_bow = MmCorpus(f'../data/stacksample/bow/{bow_f}')\n",
    "    tfidf_model = TfidfModel.load(f'../data/stacksample/models/{model_f}')\n",
    "    \n",
    "    model = LsiModel(tfidf_model[corpus_bow], id2word=corpus_dict, num_topics=15)\n",
    "    \n",
    "    if save_model:\n",
    "        model.save(f'../data/stacksample/models/{model_name}')  \n",
    "        \n",
    "train_model_custom('titles_body_compact.dict', 'titles_body_compact.mm', \n",
    "                   'titles_body_compact.tfidf', 'tfidf_title_body_compact.lsi', True)"
   ]
  },
  {
   "cell_type": "code",
   "execution_count": null,
   "metadata": {},
   "outputs": [],
   "source": []
  }
 ],
 "metadata": {
  "kernelspec": {
   "display_name": "Python 3",
   "language": "python",
   "name": "python3"
  },
  "language_info": {
   "codemirror_mode": {
    "name": "ipython",
    "version": 3
   },
   "file_extension": ".py",
   "mimetype": "text/x-python",
   "name": "python",
   "nbconvert_exporter": "python",
   "pygments_lexer": "ipython3",
   "version": "3.6.2"
  }
 },
 "nbformat": 4,
 "nbformat_minor": 1
}
