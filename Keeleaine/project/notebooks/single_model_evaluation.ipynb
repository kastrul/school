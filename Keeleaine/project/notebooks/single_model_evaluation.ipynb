{
 "cells": [
  {
   "cell_type": "code",
   "execution_count": 2,
   "metadata": {},
   "outputs": [],
   "source": [
    "from __future__ import print_function\n",
    "from ipywidgets import interact, interactive, fixed, interact_manual\n",
    "import ipywidgets as widgets\n",
    "from IPython.display import display\n",
    "import logging\n",
    "import pprint\n",
    "from os import listdir\n",
    "from os.path import isfile, join\n",
    "\n",
    "import pandas as pd\n",
    "from gensim.parsing.preprocessing import preprocess_string, strip_tags, strip_punctuation, strip_multiple_whitespaces, \\\n",
    "    remove_stopwords, stem_text\n",
    "from gensim.corpora import MmCorpus, Dictionary\n",
    "from gensim.models import TfidfModel, LdaModel, HdpModel\n",
    "\n",
    "logging.basicConfig(format='\\r%(asctime)s : %(levelname)s : %(message)s', level=logging.INFO)\n",
    "\n",
    "pp = pprint.PrettyPrinter(indent=4)\n",
    "ENCODING = 'iso-8859-1'"
   ]
  },
  {
   "cell_type": "code",
   "execution_count": 3,
   "metadata": {},
   "outputs": [],
   "source": [
    "def get_files(path):\n",
    "    return [f for f in listdir(path) if isfile(join(path, f))]"
   ]
  },
  {
   "cell_type": "markdown",
   "metadata": {},
   "source": [
    "## Analysis functions\n",
    "### Text formating"
   ]
  },
  {
   "cell_type": "code",
   "execution_count": null,
   "metadata": {},
   "outputs": [],
   "source": [
    "ALLOWED_SHORT_WORDS = ['c', 'c#', 'r', '3d', '2d', '1d', '7z', 'qt']\n",
    "\n",
    "\n",
    "def strip_short(word_list):    \n",
    "    return [word for word in word_list if len(word) > 2 or word in ALLOWED_SHORT_WORDS]\n",
    "\n",
    "\n",
    "def tokenize_text(text):\n",
    "    processed = preprocess_string(text, filters=[strip_tags, strip_punctuation, \n",
    "                                                 strip_multiple_whitespaces, remove_stopwords, stem_text])\n",
    "    return strip_short(processed)"
   ]
  },
  {
   "cell_type": "markdown",
   "metadata": {},
   "source": [
    "### Data analysis"
   ]
  },
  {
   "cell_type": "code",
   "execution_count": 72,
   "metadata": {},
   "outputs": [],
   "source": [
    "def get_real_tags(question_id):\n",
    "    real_tags = tags_df[tags_df['Id'] == question_id]['Tag'].values\n",
    "    return [tag for tag in real_tags]\n",
    "\n",
    "\n",
    "def get_predicted_tags(question_index, model, dictionary):\n",
    "    question_bow, question_id, text = get_bow_question(question_index, dictionary)\n",
    "    return model[question_bow], question_id\n",
    "\n",
    "\n",
    "def compare_real_predicted(question_index, model, dictionary, prob = 0.0):\n",
    "    predicted_tags, question_id = get_predicted_tags(question_index, model, dictionary)\n",
    "    predicted_tags = [p_tag for p_tag in predicted_tags if p_tag[1] > prob]\n",
    "    real_tags = get_real_tags(question_id)\n",
    "    correct_predictions = 0\n",
    "    for tag in predicted_tags:\n",
    "        if dictionary[tag[0]] in ' '.join(real_tags):\n",
    "            correct_predictions += 1            \n",
    "    if len(real_tags) > len(predicted_tags):\n",
    "        return correct_predictions, len(real_tags)    \n",
    "    return correct_predictions, len(predicted_tags)\n",
    "\n",
    "\n",
    "def get_bow_question(index, dictionary):\n",
    "    tokenized_text = tokenize_text(csv_data['All'][index])\n",
    "    question_id = csv_data['Id'][index]\n",
    "    text = csv_data['Body'][index]\n",
    "    return dictionary.doc2bow(tokenized_text), question_id, text\n",
    "\n",
    "\n",
    "def display_results(index, model, dictionary):\n",
    "    question_bow, question_id, text = get_bow_question(index, dictionary)\n",
    "    predicted_tags = model[question_bow]\n",
    "    tags = get_real_tags(question_id)\n",
    "    print(f'Question {question_id}:\\n{text}\\nReal tags:\\n{tags}\\n\\nPredicted tags:')\n",
    "    [print(f'Tag: {dictionary[tag_id]}, Probability: {p}') for tag_id, p in predicted_tags]"
   ]
  },
  {
   "cell_type": "code",
   "execution_count": 73,
   "metadata": {},
   "outputs": [],
   "source": [
    "def compare_n_tags(n, model, dictionary, prob=0.0):\n",
    "    correct_predictions = 0\n",
    "    all_predictions = 0\n",
    "    for i in range(n):\n",
    "        comparison = compare_real_predicted(i, model, dictionary, prob)\n",
    "        correct_predictions += comparison[0]\n",
    "        all_predictions += comparison[1]\n",
    "    return correct_predictions, all_predictions"
   ]
  },
  {
   "cell_type": "markdown",
   "metadata": {},
   "source": [
    "## Setup\n",
    "### CSV files"
   ]
  },
  {
   "cell_type": "code",
   "execution_count": 18,
   "metadata": {},
   "outputs": [],
   "source": [
    "PATH_TAGS = '../data/stacksample/Tags.csv'\n",
    "tags_df = pd.read_csv(PATH_TAGS, encoding=ENCODING)"
   ]
  },
  {
   "cell_type": "code",
   "execution_count": 7,
   "metadata": {},
   "outputs": [],
   "source": [
    "COLUMNS_QUESTION = ['Title', 'Body', 'Id']\n",
    "QUESTIONS_PATH = '../data/stacksample/Questions.csv'\n",
    "N_ROWS = 100\n",
    "\n",
    "csv_data  = pd.read_csv(QUESTIONS_PATH, encoding=ENCODING, usecols=COLUMNS_QUESTION, nrows=N_ROWS)\n",
    "csv_data['All'] = csv_data['Title'].map(str) + csv_data['Body']"
   ]
  },
  {
   "cell_type": "markdown",
   "metadata": {},
   "source": [
    "### Widgets"
   ]
  },
  {
   "cell_type": "code",
   "execution_count": 76,
   "metadata": {},
   "outputs": [],
   "source": [
    "model_file_name = widgets.Dropdown(options=[f for f in get_files('../data/stacksample/models') if 'npy' not in f],\n",
    "                                   description='Model file: ')\n",
    "dict_file_name = widgets.Dropdown(options=get_files('../data/stacksample/dictionary'), description='Dictionary file: ')\n",
    "\n",
    "text_index_slider1 = widgets.IntSlider(description='Text index: ', value=0, min=0, max=N_ROWS)\n",
    "text_index_slider2 = widgets.IntSlider(description='Text index: ', value=0, min=0, max=N_ROWS)\n",
    "\n",
    "probability_slider = widgets.FloatSlider(description='Tag probability: ', value=0.0, min=0.0, max=1.0, step=0.05)\n",
    "\n",
    "analyse_btn = widgets.Button(description='Analyse model!', disabled=True)\n",
    "\n",
    "def get_dictionary(file_name):\n",
    "    return Dictionary.load(f'../data/stacksample/dictionary/{file_name}')\n",
    "\n",
    "def get_model(file_name):\n",
    "    return TfidfModel.load(f'../data/stacksample/models/{file_name}')\n",
    "\n",
    "\n",
    "def apply_parameters(b):\n",
    "    model_path = f'../data/stacksample/models/{model_file_name.value}'\n",
    "    if 'tfidf' in model_path:\n",
    "        model = TfidfModel.load(model_path)\n",
    "    corpus_dict = Dictionary.load(f'../data/stacksample/dictionary/{dict_file_name.value}')\n",
    "    analyse_btn.disabled=False\n",
    "    \n",
    "\n",
    "def test_example(b):\n",
    "    display_results(text_index.value, model, corpus_dict)    "
   ]
  },
  {
   "cell_type": "code",
   "execution_count": 77,
   "metadata": {},
   "outputs": [
    {
     "data": {
      "application/vnd.jupyter.widget-view+json": {
       "model_id": "048b756acc004887aeafb1718eb53dff"
      }
     },
     "metadata": {},
     "output_type": "display_data"
    },
    {
     "data": {
      "application/vnd.jupyter.widget-view+json": {
       "model_id": "1819c8a24d4b4c6aa7812ddc1c7c824d"
      }
     },
     "metadata": {},
     "output_type": "display_data"
    }
   ],
   "source": [
    "corpus_dict_widget = interactive(get_dictionary, file_name=dict_file_name)\n",
    "model_widget = interactive(get_model, file_name=model_file_name)\n",
    "display(corpus_dict_widget, model_widget)"
   ]
  },
  {
   "cell_type": "code",
   "execution_count": 67,
   "metadata": {},
   "outputs": [
    {
     "data": {
      "application/vnd.jupyter.widget-view+json": {
       "model_id": "f10397e8b7e443358e18f091e4ee738c"
      }
     },
     "metadata": {},
     "output_type": "display_data"
    },
    {
     "data": {
      "text/plain": [
       "<function __main__.display_results>"
      ]
     },
     "execution_count": 67,
     "metadata": {},
     "output_type": "execute_result"
    }
   ],
   "source": [
    "interact_manual(display_results, index=text_index_slider1,\n",
    "                model=fixed(model_widget.result), dictionary=fixed(corpus_dict_widget.result))"
   ]
  },
  {
   "cell_type": "code",
   "execution_count": 78,
   "metadata": {},
   "outputs": [
    {
     "data": {
      "application/vnd.jupyter.widget-view+json": {
       "model_id": "3aa1d46f6d2c4550ba9c5e3a8d7c7ec1"
      }
     },
     "metadata": {},
     "output_type": "display_data"
    },
    {
     "data": {
      "text/plain": [
       "<function __main__.compare_n_tags>"
      ]
     },
     "execution_count": 78,
     "metadata": {},
     "output_type": "execute_result"
    }
   ],
   "source": [
    "interact_manual(compare_n_tags, n=text_index_slider2, model=fixed(model_widget.result), \n",
    "                dictionary=fixed(corpus_dict_widget.result), prob=probability_slider)"
   ]
  },
  {
   "cell_type": "code",
   "execution_count": null,
   "metadata": {},
   "outputs": [],
   "source": [
    "def get_all_predicted_tags(model, dictionary):\n",
    "    output_dict = {\n",
    "        'Id': [],\n",
    "        'Tags_p': []\n",
    "    }\n",
    "    for idx in range(len(csv_data)):\n",
    "        prediction = get_predicted_tags(idx, model, dictionary)        \n",
    "        tags = [(dictionary[tag_id], p) for tag_id, p in prediction[0]]\n",
    "        output_dict['Tags_p'].append(tags)\n",
    "        output_dict['Id'].append(prediction[1])\n",
    "    return output_dict"
   ]
  }
 ],
 "metadata": {
  "kernelspec": {
   "display_name": "Python 3",
   "language": "python",
   "name": "python3"
  },
  "language_info": {
   "codemirror_mode": {
    "name": "ipython",
    "version": 3
   },
   "file_extension": ".py",
   "mimetype": "text/x-python",
   "name": "python",
   "nbconvert_exporter": "python",
   "pygments_lexer": "ipython3",
   "version": "3.6.2"
  }
 },
 "nbformat": 4,
 "nbformat_minor": 2
}
