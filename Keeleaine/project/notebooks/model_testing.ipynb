{
 "cells": [
  {
   "cell_type": "code",
   "execution_count": null,
   "metadata": {},
   "outputs": [],
   "source": [
    "from __future__ import print_function\n",
    "from ipywidgets import interact, interactive, fixed, interact_manual\n",
    "import ipywidgets as widgets\n",
    "from IPython.display import display\n",
    "import logging\n",
    "import pprint\n",
    "from os import listdir\n",
    "from os.path import isfile, join\n",
    "\n",
    "import pandas as pd\n",
    "from gensim.parsing.preprocessing import preprocess_string\n",
    "from gensim.corpora import MmCorpus, Dictionary\n",
    "from gensim.models import TfidfModel, LdaModel, HdpModel\n",
    "\n",
    "logging.basicConfig(format='\\r%(asctime)s : %(levelname)s : %(message)s', level=logging.INFO)\n",
    "\n",
    "pp = pprint.PrettyPrinter(indent=4)\n",
    "ENCODING = 'iso-8859-1'\n"
   ]
  },
  {
   "cell_type": "code",
   "execution_count": null,
   "metadata": {},
   "outputs": [],
   "source": [
    "def get_files(path):\n",
    "    return [f for f in listdir(path) if isfile(join(path, f))]"
   ]
  },
  {
   "cell_type": "markdown",
   "metadata": {},
   "source": [
    "## Setup"
   ]
  },
  {
   "cell_type": "markdown",
   "metadata": {},
   "source": [
    "### CSV files"
   ]
  },
  {
   "cell_type": "code",
   "execution_count": 3,
   "metadata": {},
   "outputs": [],
   "source": [
    "PATH_TAGS = '../data/stacksample/Tags.csv'\n",
    "tags_df = pd.read_csv(PATH_TAGS, encoding=ENCODING)"
   ]
  },
  {
   "cell_type": "code",
   "execution_count": 4,
   "metadata": {},
   "outputs": [],
   "source": [
    "COLUMNS_QUESTION = ['Title', 'Body', 'Id']\n",
    "QUESTIONS_PATH = '../data/stacksample/Questions.csv'\n",
    "N_ROWS = 100\n",
    "\n",
    "csv_data  = pd.read_csv(QUESTIONS_PATH, encoding=ENCODING, usecols=COLUMNS_QUESTION, nrows=N_ROWS)\n"
   ]
  },
  {
   "cell_type": "markdown",
   "metadata": {},
   "source": [
    "### Dictionary file"
   ]
  },
  {
   "cell_type": "code",
   "execution_count": 5,
   "metadata": {},
   "outputs": [
    {
     "name": "stderr",
     "output_type": "stream",
     "text": [
      "2018-06-03 19:36:41,023 : INFO : loading Dictionary object from ../data/stacksample/dictionary/question_title_body.dict\n",
      "2018-06-03 19:36:42,510 : INFO : loaded ../data/stacksample/dictionary/question_title_body.dict\n"
     ]
    }
   ],
   "source": [
    "DICT_FILE = 'question_title_body.dict'\n",
    "dict_texts = Dictionary.load(f'../data/stacksample/dictionary/{DICT_FILE}')"
   ]
  },
  {
   "cell_type": "markdown",
   "metadata": {},
   "source": [
    "### Model files"
   ]
  },
  {
   "cell_type": "code",
   "execution_count": 6,
   "metadata": {},
   "outputs": [
    {
     "data": {
      "application/vnd.jupyter.widget-view+json": {
       "model_id": "18a54a19ad2f4bacb70732be143e4c7e"
      }
     },
     "metadata": {},
     "output_type": "display_data"
    },
    {
     "data": {
      "application/vnd.jupyter.widget-view+json": {
       "model_id": "ab9af3a091c1479fa9f9a2dc321c9277"
      }
     },
     "metadata": {},
     "output_type": "display_data"
    },
    {
     "data": {
      "application/vnd.jupyter.widget-view+json": {
       "model_id": "78b3ff94268d4db6b17de0c292031241"
      }
     },
     "metadata": {},
     "output_type": "display_data"
    }
   ],
   "source": [
    "tfidf_model_files = widgets.Dropdown(options=[f for f in get_files('../data/stacksample/models') \n",
    "                                              if 'tfidf' in f and 'npy' not in f], description='TFIDF model file:')\n",
    "lda_model_files = widgets.Dropdown(options=[f for f in get_files('../data/stacksample/models') \n",
    "                                            if 'lda' in f and 'npy' not in f], description='LDA model file:')\n",
    "hpd_model_files = widgets.Dropdown(options=[f for f in get_files('../data/stacksample/models') \n",
    "                                            if 'hpd' in f and 'npy' not in f], description='HPD model file:')\n",
    "display(tfidf_model_files, lda_model_files, hpd_model_files)"
   ]
  },
  {
   "cell_type": "code",
   "execution_count": 7,
   "metadata": {},
   "outputs": [
    {
     "name": "stderr",
     "output_type": "stream",
     "text": [
      "2018-06-03 19:37:05,388 : INFO : loading LdaModel object from ../data/stacksample/models/question_compact_text_100.lda\n",
      "2018-06-03 19:37:05,447 : INFO : loading expElogbeta from ../data/stacksample/models/question_compact_text_100.lda.expElogbeta.npy with mmap=None\n",
      "2018-06-03 19:37:06,987 : INFO : setting ignored attribute id2word to None\n",
      "2018-06-03 19:37:06,988 : INFO : setting ignored attribute dispatcher to None\n",
      "2018-06-03 19:37:06,990 : INFO : setting ignored attribute state to None\n",
      "2018-06-03 19:37:06,992 : INFO : loaded ../data/stacksample/models/question_compact_text_100.lda\n",
      "2018-06-03 19:37:06,994 : INFO : loading LdaState object from ../data/stacksample/models/question_compact_text_100.lda.state\n",
      "2018-06-03 19:37:07,053 : INFO : loading sstats from ../data/stacksample/models/question_compact_text_100.lda.state.sstats.npy with mmap=None\n",
      "2018-06-03 19:37:08,544 : INFO : loaded ../data/stacksample/models/question_compact_text_100.lda.state\n"
     ]
    }
   ],
   "source": [
    "lda_model = LdaModel.load(f'../data/stacksample/models/{lda_model_files.value}')\n"
   ]
  },
  {
   "cell_type": "code",
   "execution_count": 8,
   "metadata": {},
   "outputs": [
    {
     "name": "stderr",
     "output_type": "stream",
     "text": [
      "2018-06-03 19:37:09,717 : INFO : loading TfidfModel object from ../data/stacksample/models/question_title_body.tfidf\n",
      "2018-06-03 19:37:14,561 : INFO : loading id2word recursively from ../data/stacksample/models/question_title_body.tfidf.id2word.* with mmap=None\n",
      "2018-06-03 19:37:14,563 : INFO : loaded ../data/stacksample/models/question_title_body.tfidf\n"
     ]
    }
   ],
   "source": [
    "tfidf_model = TfidfModel.load(f'../data/stacksample/models/{tfidf_model_files.value}')\n"
   ]
  },
  {
   "cell_type": "code",
   "execution_count": 9,
   "metadata": {},
   "outputs": [
    {
     "name": "stderr",
     "output_type": "stream",
     "text": [
      "2018-06-03 19:37:16,141 : INFO : loading HdpModel object from ../data/stacksample/models/question_compact_text.hpd\n",
      "2018-06-03 19:37:16,539 : INFO : loading corpus recursively from ../data/stacksample/models/question_compact_text.hpd.corpus.* with mmap=None\n",
      "2018-06-03 19:37:16,540 : INFO : loading id2word recursively from ../data/stacksample/models/question_compact_text.hpd.id2word.* with mmap=None\n",
      "2018-06-03 19:37:16,542 : INFO : loading lda_beta from ../data/stacksample/models/question_compact_text.hpd.lda_beta.npy with mmap=None\n",
      "2018-06-03 19:37:22,197 : INFO : loading m_lambda from ../data/stacksample/models/question_compact_text.hpd.m_lambda.npy with mmap=None\n",
      "2018-06-03 19:37:28,050 : INFO : loading m_Elogbeta from ../data/stacksample/models/question_compact_text.hpd.m_Elogbeta.npy with mmap=None\n",
      "2018-06-03 19:37:34,579 : INFO : loaded ../data/stacksample/models/question_compact_text.hpd\n"
     ]
    }
   ],
   "source": [
    "hpd_model = HdpModel.load(f'../data/stacksample/models/{hpd_model_files.value}')\n"
   ]
  },
  {
   "cell_type": "markdown",
   "metadata": {},
   "source": [
    "## Analysis functions"
   ]
  },
  {
   "cell_type": "code",
   "execution_count": 77,
   "metadata": {},
   "outputs": [],
   "source": [
    "def get_real_tags(question_id):\n",
    "    real_tags = tags_df[tags_df['Id'] == question_id]['Tag'].values\n",
    "    return [tag for tag in real_tags]\n",
    "\n",
    "\n",
    "def get_predicted_tags(question_index, model):\n",
    "    question_bow, question_id, text = get_bow_question(question_index)\n",
    "    return model[question_bow], question_id\n",
    "\n",
    "\n",
    "def compare_real_predicted(question_index, model, prob = 0.0):\n",
    "    predicted_tags, question_id = get_predicted_tags(question_index, model)\n",
    "    predicted_tags = [p_tag for p_tag in predicted_tags if p_tag[1] > prob]    \n",
    "    real_tags = get_real_tags(question_id)\n",
    "    n_predicted = len(predicted_tags)\n",
    "    n_real = len(real_tags)    \n",
    "    correct_predictions = 0\n",
    "    for tag in predicted_tags:\n",
    "        if dict_texts[tag[0]] in ' '.join(real_tags):\n",
    "            correct_predictions += 1            \n",
    "    if n_real > n_predicted:\n",
    "        return correct_predictions, n_real    \n",
    "    return correct_predictions, n_predicted\n",
    "\n",
    "\n",
    "def get_bow_question(index):\n",
    "    tokenized_text = preprocess_string(csv_data['Title'][index])\n",
    "    question_id = csv_data['Id'][index]\n",
    "    text = csv_data['Body'][index]\n",
    "    return dict_texts.doc2bow(tokenized_text), question_id, text\n",
    "\n",
    "\n",
    "def display_results(index, model):\n",
    "    question_bow, question_id, text = get_bow_question(index)\n",
    "    predicted_tags = model[question_bow]\n",
    "    tags = get_real_tags(question_id)\n",
    "    print(f'Question {question_id}:\\n{text}\\nReal tags:\\n{tags}\\n\\nPredicted tags:')\n",
    "    [print(f'Tag: {dict_texts[tag_id]}, Probability: {p}') for tag_id, p in predicted_tags]\n"
   ]
  },
  {
   "cell_type": "code",
   "execution_count": 78,
   "metadata": {},
   "outputs": [],
   "source": [
    "def compare_n_tags(n, model, prob = 0.0):\n",
    "    correct_predictions = 0\n",
    "    all_predictions = 0\n",
    "    \n",
    "    for i in range(n):\n",
    "        comparison = compare_real_predicted(i, model, prob)\n",
    "        correct_predictions += comparison[0]\n",
    "        all_predictions += comparison[1]\n",
    "        \n",
    "    return correct_predictions, all_predictions\n"
   ]
  },
  {
   "cell_type": "markdown",
   "metadata": {},
   "source": [
    "## Model analysis"
   ]
  },
  {
   "cell_type": "markdown",
   "metadata": {},
   "source": [
    "### TFIDF Model"
   ]
  },
  {
   "cell_type": "code",
   "execution_count": 79,
   "metadata": {},
   "outputs": [
    {
     "name": "stdout",
     "output_type": "stream",
     "text": [
      "Question 80:\n",
      "<p>I've written a database generation script in <a href=\"http://en.wikipedia.org/wiki/SQL\">SQL</a> and want to execute it in my <a href=\"http://en.wikipedia.org/wiki/Adobe_Integrated_Runtime\">Adobe AIR</a> application:</p>\n",
      "\n",
      "<pre><code>Create Table tRole (\n",
      "      roleID integer Primary Key\n",
      "      ,roleName varchar(40)\n",
      ");\n",
      "Create Table tFile (\n",
      "    fileID integer Primary Key\n",
      "    ,fileName varchar(50)\n",
      "    ,fileDescription varchar(500)\n",
      "    ,thumbnailID integer\n",
      "    ,fileFormatID integer\n",
      "    ,categoryID integer\n",
      "    ,isFavorite boolean\n",
      "    ,dateAdded date\n",
      "    ,globalAccessCount integer\n",
      "    ,lastAccessTime date\n",
      "    ,downloadComplete boolean\n",
      "    ,isNew boolean\n",
      "    ,isSpotlight boolean\n",
      "    ,duration varchar(30)\n",
      ");\n",
      "Create Table tCategory (\n",
      "    categoryID integer Primary Key\n",
      "    ,categoryName varchar(50)\n",
      "    ,parent_categoryID integer\n",
      ");\n",
      "...\n",
      "</code></pre>\n",
      "\n",
      "<p>I execute this in Adobe AIR using the following methods:</p>\n",
      "\n",
      "<pre><code>public static function RunSqlFromFile(fileName:String):void {\n",
      "    var file:File = File.applicationDirectory.resolvePath(fileName);\n",
      "    var stream:FileStream = new FileStream();\n",
      "    stream.open(file, FileMode.READ)\n",
      "    var strSql:String = stream.readUTFBytes(stream.bytesAvailable);\n",
      "    NonQuery(strSql);\n",
      "}\n",
      "\n",
      "public static function NonQuery(strSQL:String):void\n",
      "{\n",
      "    var sqlConnection:SQLConnection = new SQLConnection();\n",
      "    sqlConnection.open(File.applicationStorageDirectory.resolvePath(DBPATH);\n",
      "    var sqlStatement:SQLStatement = new SQLStatement();\n",
      "    sqlStatement.text = strSQL;\n",
      "    sqlStatement.sqlConnection = sqlConnection;\n",
      "    try\n",
      "    {\n",
      "        sqlStatement.execute();\n",
      "    }\n",
      "    catch (error:SQLError)\n",
      "    {\n",
      "        Alert.show(error.toString());\n",
      "    }\n",
      "}\n",
      "</code></pre>\n",
      "\n",
      "<p>No errors are generated, however only <code>tRole</code> exists. It seems that it only looks at the first query (up to the semicolon- if I remove it, the query fails). Is there a way to call multiple queries in one statement?</p>\n",
      "\n",
      "Real tags:\n",
      "['flex', 'actionscript-3', 'air']\n",
      "\n",
      "Predicted tags:\n",
      "Tag: execut, Probability: 0.2559775956906187\n",
      "Tag: multipl, Probability: 0.27330028001896595\n",
      "Tag: queri, Probability: 0.23726104491177505\n",
      "Tag: sqlstatement, Probability: 0.8369994170315262\n",
      "Tag: statement, Probability: 0.32081396463100376\n",
      "(0, 3)\n"
     ]
    }
   ],
   "source": [
    "IDX = 0\n",
    "display_results(IDX, tfidf_model)\n",
    "print(compare_real_predicted(IDX, tfidf_model, 0.4))"
   ]
  },
  {
   "cell_type": "code",
   "execution_count": 81,
   "metadata": {},
   "outputs": [
    {
     "name": "stdout",
     "output_type": "stream",
     "text": [
      "Result: 46/128 - 0.36\n"
     ]
    }
   ],
   "source": [
    "comparison = compare_n_tags(40, tfidf_model, 0.4)\n",
    "print(f'Result: {comparison[0]}/{comparison[1]} - {round(comparison[0]/comparison[1], 2)}')"
   ]
  },
  {
   "cell_type": "markdown",
   "metadata": {},
   "source": [
    "### LDA Model"
   ]
  },
  {
   "cell_type": "code",
   "execution_count": 42,
   "metadata": {},
   "outputs": [
    {
     "name": "stdout",
     "output_type": "stream",
     "text": [
      "Question 4430:\n",
      "<p>Is there available any tool for PHP which can be used to generate code for consuming a <a href=\"http://en.wikipedia.org/wiki/Web_service\">web service</a> based on its <a href=\"http://en.wikipedia.org/wiki/Web_Services_Description_Language\">WSDL</a>? Something comparable to clicking \"Add Web Reference\" in Visual Studio or the Eclipse plugin which does the same thing for Java.</p>\n",
      "\n",
      "Real tags:\n",
      "['php', 'web-services', 'visual-studio', 'wsdl']\n",
      "\n",
      "Predicted tags:\n",
      "Tag: isfavorit, Probability: 0.29556527733802795\n",
      "Tag: parent, Probability: 0.17092831432819366\n",
      "Tag: try, Probability: 0.2040792852640152\n",
      "Tag: ve, Probability: 0.16942711174488068\n"
     ]
    },
    {
     "data": {
      "text/plain": [
       "(0, 4)"
      ]
     },
     "execution_count": 42,
     "metadata": {},
     "output_type": "execute_result"
    }
   ],
   "source": [
    "IDX = 50\n",
    "display_results(IDX, lda_model)\n",
    "compare_real_predicted(IDX, lda_model)"
   ]
  },
  {
   "cell_type": "code",
   "execution_count": 43,
   "metadata": {},
   "outputs": [
    {
     "data": {
      "text/plain": [
       "(8, 266)"
      ]
     },
     "execution_count": 43,
     "metadata": {},
     "output_type": "execute_result"
    }
   ],
   "source": [
    "compare_n_tags(80, lda_model)"
   ]
  },
  {
   "cell_type": "markdown",
   "metadata": {},
   "source": [
    "### HPD Model"
   ]
  },
  {
   "cell_type": "code",
   "execution_count": 44,
   "metadata": {},
   "outputs": [
    {
     "name": "stdout",
     "output_type": "stream",
     "text": [
      "Question 930:\n",
      "<p>What's the simplest way to connect and query a database for a set of records in C#?</p>\n",
      "\n",
      "Real tags:\n",
      "['c#', 'database', 'loops', 'connection']\n",
      "\n",
      "Predicted tags:\n",
      "Tag: 50, Probability: 0.010119895685787621\n",
      "Tag: bytesavail, Probability: 0.8055925513114077\n"
     ]
    },
    {
     "data": {
      "text/plain": [
       "(0, 2)"
      ]
     },
     "execution_count": 44,
     "metadata": {},
     "output_type": "execute_result"
    }
   ],
   "source": [
    "IDX = 10\n",
    "display_results(IDX, hpd_model)\n",
    "compare_real_predicted(IDX, hpd_model)"
   ]
  },
  {
   "cell_type": "code",
   "execution_count": null,
   "metadata": {},
   "outputs": [],
   "source": []
  }
 ],
 "metadata": {
  "kernelspec": {
   "display_name": "Python 3",
   "language": "python",
   "name": "python3"
  },
  "language_info": {
   "codemirror_mode": {
    "name": "ipython",
    "version": 3
   },
   "file_extension": ".py",
   "mimetype": "text/x-python",
   "name": "python",
   "nbconvert_exporter": "python",
   "pygments_lexer": "ipython3",
   "version": "3.6.2"
  }
 },
 "nbformat": 4,
 "nbformat_minor": 1
}
